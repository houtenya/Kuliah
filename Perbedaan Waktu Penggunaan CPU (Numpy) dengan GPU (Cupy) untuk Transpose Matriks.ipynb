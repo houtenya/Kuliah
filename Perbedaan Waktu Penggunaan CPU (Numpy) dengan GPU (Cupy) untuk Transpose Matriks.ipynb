{
 "cells": [
  {
   "cell_type": "markdown",
   "metadata": {},
   "source": [
    "Perbedaan Waktu penggunaan CPU (Numpy) dengan GPU (Cupy) untuk transpose matriks"
   ]
  },
  {
   "cell_type": "code",
   "execution_count": 28,
   "metadata": {},
   "outputs": [],
   "source": [
    "import time\n",
    "import cupy as cp\n",
    "import numpy as np"
   ]
  },
  {
   "cell_type": "markdown",
   "metadata": {},
   "source": [
    "1. NumPy"
   ]
  },
  {
   "cell_type": "code",
   "execution_count": 29,
   "metadata": {},
   "outputs": [
    {
     "name": "stdout",
     "output_type": "stream",
     "text": [
      "Waktu CPU : 0.1363680362701416 detik\n"
     ]
    }
   ],
   "source": [
    "s = time.time()\n",
    "\n",
    "A = np.random.randint(10, size=(10000,1000))\n",
    "\n",
    "A.transpose()\n",
    "\n",
    "e = time.time()\n",
    "\n",
    "print(\"Waktu CPU :\", e - s, \"detik\")"
   ]
  },
  {
   "cell_type": "markdown",
   "metadata": {},
   "source": [
    "2. CuPy"
   ]
  },
  {
   "cell_type": "code",
   "execution_count": 30,
   "metadata": {},
   "outputs": [
    {
     "name": "stdout",
     "output_type": "stream",
     "text": [
      "Waktu GPU : 0.023073911666870117 detik\n"
     ]
    }
   ],
   "source": [
    "s = time.time()\n",
    "\n",
    "A = cp.random.randint(10, size=(10000,1000))\n",
    "\n",
    "A.transpose()\n",
    "\n",
    "cp.cuda.Stream.null.synchronize()\n",
    "\n",
    "e = time.time()\n",
    "\n",
    "print(\"Waktu GPU :\", e - s, \"detik\")"
   ]
  },
  {
   "cell_type": "code",
   "execution_count": null,
   "metadata": {},
   "outputs": [],
   "source": []
  }
 ],
 "metadata": {
  "kernelspec": {
   "display_name": "Python 3",
   "language": "python",
   "name": "python3"
  },
  "language_info": {
   "codemirror_mode": {
    "name": "ipython",
    "version": 3
   },
   "file_extension": ".py",
   "mimetype": "text/x-python",
   "name": "python",
   "nbconvert_exporter": "python",
   "pygments_lexer": "ipython3",
   "version": "3.6.9"
  }
 },
 "nbformat": 4,
 "nbformat_minor": 4
}
