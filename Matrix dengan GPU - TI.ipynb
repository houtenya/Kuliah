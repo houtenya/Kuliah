{
 "cells": [
  {
   "cell_type": "markdown",
   "metadata": {},
   "source": [
    "## Operasi Matriks dengan GPU\n",
    "---\n",
    "\n",
    "\n",
    "<img src=\"data:image/png;base64,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\">\n",
    "Numpy telah menjadi hadiah bagi komunitas Python. Ilmuwan Data, Praktisi Machine Learning, dan Ahli Statistik dapat memproses data dalam jumlah besar dalam format matriks dengan cara yang mudah dan efisien.\n",
    "\n",
    "Bahkan Numpy sudah merupakan langkah signifikan dari Python dalam hal kecepatan. Kapan pun kita menemukan kode Python berjalan lambat, terutama jika kita melihat banyak for-loop, sebaiknya pindahkan pemrosesan data ke Numpy dan biarkan vektorisasi bekerja dengan kecepatan tinggi!\n",
    "\n",
    "Namun, meski dengan penambahan kecepatan itu, Numpy hanya berjalan di CPU. Dengan CPU konsumen biasanya memiliki 8 core atau kurang, jumlah pemrosesan paralel, dan oleh karena itu, jumlah percepatan yang dapat dicapai, menjadi terbatas.\n",
    "\n",
    "Di situlah teman baru kita CuPy berperan!\n",
    "\n",
    "<img src=\"data:image/png;base64,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\">\n",
    "\n",
    "CuPy adalah library yang mengimplementasikan array Numpy pada GPU Nvidia dengan memanfaatkan library GPU CUDA. Dengan implementasi tersebut, kecepatan paralel yang superior dapat dicapai karena banyaknya core CUDA yang dimiliki GPU.\n",
    "\n",
    "Antarmuka CuPy bisa dibilang merupakan cerminan dari Numpy dan dalam banyak kasus, dapat digunakan sebagai penggantinya langsung. Cukup ganti kode Numpy kita dengan kode CuPy yang kompatibel dan kita akan memiliki kecepatan GPU. CuPy mendukung sebagian besar operasi array yang dimiliki Numpy termasuk pengindeksan, broadcasting, matematika pada array, dan berbagai transformasi matriks."
   ]
  },
  {
   "cell_type": "markdown",
   "metadata": {},
   "source": [
    "---\n",
    "### Membuat array matriks\n",
    "\n",
    "Kita akan mencoba melihat perbedaan waktu pembuatan array matriks menggunakan CPU dan juga GPU. "
   ]
  },
  {
   "cell_type": "code",
   "execution_count": null,
   "metadata": {
    "scrolled": false
   },
   "outputs": [],
   "source": [
    "import time\n",
    "import cupy as cp\n",
    "import numpy as np"
   ]
  },
  {
   "cell_type": "code",
   "execution_count": null,
   "metadata": {},
   "outputs": [],
   "source": [
    "s = time.time()\n",
    "m_cpu = np.random.randint(10, size=(100000,1000))\n",
    "e = time.time()\n",
    "print(\"Waktu CPU :\", e - s, \"detik\")\n",
    "\n",
    "s = time.time()\n",
    "m_gpu = cp.random.randint(10, size=(100000,1000))\n",
    "cp.cuda.Stream.null.synchronize()\n",
    "e = time.time()\n",
    "print(\"Waktu GPU :\", e - s, \"detik\")"
   ]
  },
  {
   "cell_type": "markdown",
   "metadata": {},
   "source": [
    "Dari hasil di atas, dapat dilihat bahwa semakin besar jumlah array yang dibuat, maka semakin terlihat perbedaan kecepatan antara GPU dan CPU.\n",
    "\n",
    "---\n",
    "\n",
    "### Penjumlahan dan perkalian matriks\n",
    "Pada praktikum sebelumnya sudah dibuat program untuk melakukan penjumlahan dan perkalian matriks menggunakan Numpy. Kali ini kita akan melihat perbedaannya dengan menggunakan Cupy.\n",
    "\n",
    "---\n",
    "\n",
    "#### Penambahan Dua Matriks\n",
    "1. Numpy"
   ]
  },
  {
   "cell_type": "code",
   "execution_count": 4,
   "metadata": {},
   "outputs": [
    {
     "name": "stdout",
     "output_type": "stream",
     "text": [
      "Waktu CPU : 0.029828310012817383 detik\n"
     ]
    }
   ],
   "source": [
    "s = time.time()\n",
    "\n",
    "A = np.random.randint(10, size=(1000,1000))\n",
    "\n",
    "B = np.random.randint(10, size=(1000,1000))\n",
    "\n",
    "C = A + B   \n",
    "\n",
    "e = time.time()\n",
    "\n",
    "print(\"Waktu CPU :\", e - s, \"detik\")"
   ]
  },
  {
   "cell_type": "markdown",
   "metadata": {},
   "source": [
    "2. Cupy"
   ]
  },
  {
   "cell_type": "code",
   "execution_count": 4,
   "metadata": {},
   "outputs": [
    {
     "name": "stdout",
     "output_type": "stream",
     "text": [
      "Waktu GPU : 0.004826545715332031 detik\n"
     ]
    }
   ],
   "source": [
    "s = time.time()\n",
    "\n",
    "A = cp.random.randint(10, size=(1000,1000))\n",
    "\n",
    "B = cp.random.randint(10, size=(1000,1000))\n",
    "\n",
    "C = A + B   \n",
    "\n",
    "cp.cuda.Stream.null.synchronize()\n",
    "\n",
    "e = time.time()\n",
    "\n",
    "print(\"Waktu GPU :\", e - s, \"detik\")"
   ]
  },
  {
   "cell_type": "markdown",
   "metadata": {},
   "source": [
    "---\n",
    "\n",
    "#### Perkalian Dua Matriks\n",
    "\n",
    "1. Numpy"
   ]
  },
  {
   "cell_type": "code",
   "execution_count": 5,
   "metadata": {},
   "outputs": [
    {
     "name": "stdout",
     "output_type": "stream",
     "text": [
      "Waktu CPU : 0.7565491199493408 detik\n"
     ]
    }
   ],
   "source": [
    "s = time.time()\n",
    "\n",
    "A = np.random.randint(10, size=(1000,1000))\n",
    "\n",
    "B = np.random.randint(10, size=(1000,1000))\n",
    "\n",
    "C = A.dot(B)\n",
    "\n",
    "e = time.time()\n",
    "\n",
    "print(\"Waktu CPU :\", e - s, \"detik\")"
   ]
  },
  {
   "cell_type": "markdown",
   "metadata": {},
   "source": [
    "2. Cupy"
   ]
  },
  {
   "cell_type": "code",
   "execution_count": 6,
   "metadata": {},
   "outputs": [
    {
     "name": "stdout",
     "output_type": "stream",
     "text": [
      "Waktu GPU : 0.551386833190918 detik\n"
     ]
    }
   ],
   "source": [
    "s = time.time()\n",
    "\n",
    "A = cp.random.randint(10, size=(1000,1000))\n",
    "\n",
    "B = cp.random.randint(10, size=(1000,1000))\n",
    "\n",
    "C = A.dot(B)\n",
    "\n",
    "cp.cuda.Stream.null.synchronize()\n",
    "\n",
    "e = time.time()\n",
    "\n",
    "print(\"Waktu GPU :\", e - s, \"detik\")"
   ]
  },
  {
   "cell_type": "markdown",
   "metadata": {},
   "source": [
    "---\n",
    "\n",
    "### Tugas\n",
    "Cari dan analisa perbedaan waktu antara penggunaan CPU (Numpy) dengan GPU (Cupy) untuk transpos matriks."
   ]
  }
 ],
 "metadata": {
  "kernelspec": {
   "display_name": "Python 3",
   "language": "python",
   "name": "python3"
  },
  "language_info": {
   "codemirror_mode": {
    "name": "ipython",
    "version": 3
   },
   "file_extension": ".py",
   "mimetype": "text/x-python",
   "name": "python",
   "nbconvert_exporter": "python",
   "pygments_lexer": "ipython3",
   "version": "3.6.9"
  }
 },
 "nbformat": 4,
 "nbformat_minor": 4
}
