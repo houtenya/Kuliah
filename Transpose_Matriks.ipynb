{
  "nbformat": 4,
  "nbformat_minor": 0,
  "metadata": {
    "colab": {
      "name": "Transpose_Matriks.ipynb",
      "provenance": [],
      "collapsed_sections": []
    },
    "kernelspec": {
      "name": "python3",
      "display_name": "Python 3"
    },
    "language_info": {
      "name": "python"
    }
  },
  "cells": [
    {
      "cell_type": "code",
      "metadata": {
        "colab": {
          "base_uri": "https://localhost:8080/"
        },
        "id": "kGko4SKc3hj7",
        "outputId": "2cca547e-5abc-4ef5-ce69-27b41953eb74"
      },
      "source": [
        "matriks = [[5, 2, 4], \n",
        "           [3, 7, 5],\n",
        "           [1, 2, 8]]\n",
        "print('Matriks =', matriks)\n",
        "print('Matriks Transpose =', [list(i) for i in zip(*matriks)])"
      ],
      "execution_count": null,
      "outputs": [
        {
          "output_type": "stream",
          "text": [
            "Matriks = [[5, 2, 4], [3, 7, 5], [1, 2, 8]]\n",
            "Matriks Transpose = [[5, 3, 1], [2, 7, 2], [4, 5, 8]]\n"
          ],
          "name": "stdout"
        }
      ]
    }
  ]
}