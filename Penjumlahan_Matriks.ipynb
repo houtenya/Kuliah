{
  "nbformat": 4,
  "nbformat_minor": 0,
  "metadata": {
    "colab": {
      "name": "Penjumlahan_Matriks.ipynb",
      "provenance": [],
      "collapsed_sections": []
    },
    "kernelspec": {
      "name": "python3",
      "display_name": "Python 3"
    },
    "language_info": {
      "name": "python"
    }
  },
  "cells": [
    {
      "cell_type": "code",
      "metadata": {
        "colab": {
          "base_uri": "https://localhost:8080/"
        },
        "id": "HfU6BrxmxIx2",
        "outputId": "33168fe6-bda7-4c49-8566-1b60efecc7fd"
      },
      "source": [
        "A = [[1, 3, 2, 6], [4, 8, 3, 1]]\n",
        "B = [[9, 5, 3, 4], [7, 5, 2, 3]]\n",
        "for x in range(0, len(A)):\n",
        "    for y in range(0, len(A[0])):\n",
        "        print (A[x][y] + B[x][y], end=' '),\n",
        "    print ()"
      ],
      "execution_count": null,
      "outputs": [
        {
          "output_type": "stream",
          "text": [
            "10 8 5 10 \n",
            "11 13 5 4 \n"
          ],
          "name": "stdout"
        }
      ]
    }
  ]
}