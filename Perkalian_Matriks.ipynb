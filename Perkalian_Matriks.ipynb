{
  "nbformat": 4,
  "nbformat_minor": 0,
  "metadata": {
    "colab": {
      "name": "Perkalian_Matriks.ipynb",
      "provenance": [],
      "collapsed_sections": []
    },
    "kernelspec": {
      "name": "python3",
      "display_name": "Python 3"
    },
    "language_info": {
      "name": "python"
    }
  },
  "cells": [
    {
      "cell_type": "code",
      "metadata": {
        "colab": {
          "base_uri": "https://localhost:8080/"
        },
        "id": "cGyJMP461ZbM",
        "outputId": "f5b98302-46ff-428f-816b-c93548aaef49"
      },
      "source": [
        "A = [[3, 5],\n",
        "    [7, 2]]\n",
        "\n",
        "B = [[1, 5],\n",
        "    [6, 3]]\n",
        "C = []\n",
        "\n",
        "for x in range(0, len(A)):\n",
        "    row = []\n",
        "    for y in range(0, len(A[0])):\n",
        "        total = 0\n",
        "        for z in range(0, len(A)):\n",
        "            total = total + (A[x][z] * B[z][y])\n",
        "        row.append(total)\n",
        "    C.append(row)\n",
        "    \n",
        "for x in range(0, len(C)):\n",
        "    for y in range(0, len(C[0])):\n",
        "        print (C[x][y], end=' ')\n",
        "    print ()"
      ],
      "execution_count": null,
      "outputs": [
        {
          "output_type": "stream",
          "text": [
            "33 30 \n",
            "19 41 \n"
          ],
          "name": "stdout"
        }
      ]
    }
  ]
}